{
 "cells": [
  {
   "cell_type": "markdown",
   "id": "a45f509d-5b4e-4448-9496-befd7e9924a8",
   "metadata": {},
   "source": [
    "# Slack channels to Exel Datasets\n"
   ]
  },
  {
   "cell_type": "markdown",
   "id": "24420aca-9b32-4962-ae5c-1133aac2d2bc",
   "metadata": {},
   "source": [
    "### Set up a virtual environment:"
   ]
  },
  {
   "cell_type": "markdown",
   "id": "ba76d9c7-96d2-49ba-b715-849df7c44222",
   "metadata": {},
   "source": [
    "#### 1.1 To create and activate a new virtual environment:\n",
    "Run the cell below if you are creating a virtual environment to be used for this analysis for the first time. The default name of the virtual environment is \"venv2\". You may choose a different name, just make sure your changes are consistent everywhere in this notebook."
   ]
  },
  {
   "cell_type": "code",
   "execution_count": 5,
   "id": "2c9a51b7-c785-4869-a30e-f95cdf847815",
   "metadata": {},
   "outputs": [
    {
     "name": "stdout",
     "output_type": "stream",
     "text": [
      "Collecting asttokens==3.0.0 (from -r requirements2.txt (line 1))\n",
      "  Using cached asttokens-3.0.0-py3-none-any.whl.metadata (4.7 kB)\n",
      "Collecting comm==0.2.2 (from -r requirements2.txt (line 2))\n",
      "  Using cached comm-0.2.2-py3-none-any.whl.metadata (3.7 kB)\n",
      "Collecting debugpy==1.8.11 (from -r requirements2.txt (line 3))\n",
      "  Using cached debugpy-1.8.11-cp312-cp312-manylinux_2_5_x86_64.manylinux1_x86_64.manylinux_2_17_x86_64.manylinux2014_x86_64.whl.metadata (1.1 kB)\n",
      "Collecting decorator==5.1.1 (from -r requirements2.txt (line 4))\n",
      "  Using cached decorator-5.1.1-py3-none-any.whl.metadata (4.0 kB)\n",
      "Collecting et_xmlfile==2.0.0 (from -r requirements2.txt (line 5))\n",
      "  Using cached et_xmlfile-2.0.0-py3-none-any.whl.metadata (2.7 kB)\n",
      "Collecting executing==2.1.0 (from -r requirements2.txt (line 6))\n",
      "  Using cached executing-2.1.0-py2.py3-none-any.whl.metadata (8.9 kB)\n",
      "Collecting filelock==3.16.1 (from -r requirements2.txt (line 7))\n",
      "  Using cached filelock-3.16.1-py3-none-any.whl.metadata (2.9 kB)\n",
      "Collecting idna==3.10 (from -r requirements2.txt (line 8))\n",
      "  Using cached idna-3.10-py3-none-any.whl.metadata (10 kB)\n",
      "Collecting ipykernel==6.29.5 (from -r requirements2.txt (line 9))\n",
      "  Using cached ipykernel-6.29.5-py3-none-any.whl.metadata (6.3 kB)\n",
      "Collecting ipython==8.31.0 (from -r requirements2.txt (line 10))\n",
      "  Using cached ipython-8.31.0-py3-none-any.whl.metadata (4.9 kB)\n",
      "Collecting jedi==0.19.2 (from -r requirements2.txt (line 11))\n",
      "  Using cached jedi-0.19.2-py2.py3-none-any.whl.metadata (22 kB)\n",
      "Collecting jupyter_client==8.6.3 (from -r requirements2.txt (line 12))\n",
      "  Using cached jupyter_client-8.6.3-py3-none-any.whl.metadata (8.3 kB)\n",
      "Collecting jupyter_core==5.7.2 (from -r requirements2.txt (line 13))\n",
      "  Using cached jupyter_core-5.7.2-py3-none-any.whl.metadata (3.4 kB)\n",
      "Collecting matplotlib-inline==0.1.7 (from -r requirements2.txt (line 14))\n",
      "  Using cached matplotlib_inline-0.1.7-py3-none-any.whl.metadata (3.9 kB)\n",
      "Collecting nest-asyncio==1.6.0 (from -r requirements2.txt (line 15))\n",
      "  Using cached nest_asyncio-1.6.0-py3-none-any.whl.metadata (2.8 kB)\n",
      "Collecting numpy==2.2.1 (from -r requirements2.txt (line 16))\n",
      "  Using cached numpy-2.2.1-cp312-cp312-manylinux_2_17_x86_64.manylinux2014_x86_64.whl.metadata (62 kB)\n",
      "Collecting openpyxl==3.1.5 (from -r requirements2.txt (line 17))\n",
      "  Using cached openpyxl-3.1.5-py2.py3-none-any.whl.metadata (2.5 kB)\n",
      "Collecting packaging==24.2 (from -r requirements2.txt (line 18))\n",
      "  Using cached packaging-24.2-py3-none-any.whl.metadata (3.2 kB)\n",
      "Collecting pandas==2.2.3 (from -r requirements2.txt (line 19))\n",
      "  Using cached pandas-2.2.3-cp312-cp312-manylinux_2_17_x86_64.manylinux2014_x86_64.whl.metadata (89 kB)\n",
      "Collecting parso==0.8.4 (from -r requirements2.txt (line 20))\n",
      "  Using cached parso-0.8.4-py2.py3-none-any.whl.metadata (7.7 kB)\n",
      "Collecting pexpect==4.9.0 (from -r requirements2.txt (line 21))\n",
      "  Using cached pexpect-4.9.0-py2.py3-none-any.whl.metadata (2.5 kB)\n",
      "Collecting platformdirs==4.3.6 (from -r requirements2.txt (line 22))\n",
      "  Using cached platformdirs-4.3.6-py3-none-any.whl.metadata (11 kB)\n",
      "Collecting prompt_toolkit==3.0.48 (from -r requirements2.txt (line 23))\n",
      "  Using cached prompt_toolkit-3.0.48-py3-none-any.whl.metadata (6.4 kB)\n",
      "Collecting psutil==6.1.1 (from -r requirements2.txt (line 24))\n",
      "  Using cached psutil-6.1.1-cp36-abi3-manylinux_2_12_x86_64.manylinux2010_x86_64.manylinux_2_17_x86_64.manylinux2014_x86_64.whl.metadata (22 kB)\n",
      "Collecting ptyprocess==0.7.0 (from -r requirements2.txt (line 25))\n",
      "  Using cached ptyprocess-0.7.0-py2.py3-none-any.whl.metadata (1.3 kB)\n",
      "Collecting pure_eval==0.2.3 (from -r requirements2.txt (line 26))\n",
      "  Using cached pure_eval-0.2.3-py3-none-any.whl.metadata (6.3 kB)\n",
      "Collecting Pygments==2.19.1 (from -r requirements2.txt (line 27))\n",
      "  Using cached pygments-2.19.1-py3-none-any.whl.metadata (2.5 kB)\n",
      "Collecting python-dateutil==2.9.0.post0 (from -r requirements2.txt (line 28))\n",
      "  Using cached python_dateutil-2.9.0.post0-py2.py3-none-any.whl.metadata (8.4 kB)\n",
      "Collecting pytz==2024.2 (from -r requirements2.txt (line 29))\n",
      "  Using cached pytz-2024.2-py2.py3-none-any.whl.metadata (22 kB)\n",
      "Collecting pyzmq==26.2.0 (from -r requirements2.txt (line 30))\n",
      "  Using cached pyzmq-26.2.0-cp312-cp312-manylinux_2_28_x86_64.whl.metadata (6.2 kB)\n",
      "Collecting six==1.17.0 (from -r requirements2.txt (line 31))\n",
      "  Using cached six-1.17.0-py2.py3-none-any.whl.metadata (1.7 kB)\n",
      "Collecting stack-data==0.6.3 (from -r requirements2.txt (line 32))\n",
      "  Using cached stack_data-0.6.3-py3-none-any.whl.metadata (18 kB)\n",
      "Collecting tornado==6.4.2 (from -r requirements2.txt (line 33))\n",
      "  Using cached tornado-6.4.2-cp38-abi3-manylinux_2_5_x86_64.manylinux1_x86_64.manylinux_2_17_x86_64.manylinux2014_x86_64.whl.metadata (2.5 kB)\n",
      "Collecting traitlets==5.14.3 (from -r requirements2.txt (line 34))\n",
      "  Using cached traitlets-5.14.3-py3-none-any.whl.metadata (10 kB)\n",
      "Collecting tzdata==2024.2 (from -r requirements2.txt (line 35))\n",
      "  Using cached tzdata-2024.2-py2.py3-none-any.whl.metadata (1.4 kB)\n",
      "Collecting uritools==4.0.3 (from -r requirements2.txt (line 36))\n",
      "  Using cached uritools-4.0.3-py3-none-any.whl.metadata (4.7 kB)\n",
      "Collecting urlextract==1.9.0 (from -r requirements2.txt (line 37))\n",
      "  Using cached urlextract-1.9.0-py3-none-any.whl.metadata (5.8 kB)\n",
      "Collecting wcwidth==0.2.13 (from -r requirements2.txt (line 38))\n",
      "  Using cached wcwidth-0.2.13-py2.py3-none-any.whl.metadata (14 kB)\n",
      "Using cached asttokens-3.0.0-py3-none-any.whl (26 kB)\n",
      "Using cached comm-0.2.2-py3-none-any.whl (7.2 kB)\n",
      "Using cached debugpy-1.8.11-cp312-cp312-manylinux_2_5_x86_64.manylinux1_x86_64.manylinux_2_17_x86_64.manylinux2014_x86_64.whl (4.2 MB)\n",
      "Using cached decorator-5.1.1-py3-none-any.whl (9.1 kB)\n",
      "Using cached et_xmlfile-2.0.0-py3-none-any.whl (18 kB)\n",
      "Using cached executing-2.1.0-py2.py3-none-any.whl (25 kB)\n",
      "Using cached filelock-3.16.1-py3-none-any.whl (16 kB)\n",
      "Using cached idna-3.10-py3-none-any.whl (70 kB)\n",
      "Using cached ipykernel-6.29.5-py3-none-any.whl (117 kB)\n",
      "Using cached ipython-8.31.0-py3-none-any.whl (821 kB)\n",
      "Using cached jedi-0.19.2-py2.py3-none-any.whl (1.6 MB)\n",
      "Using cached jupyter_client-8.6.3-py3-none-any.whl (106 kB)\n",
      "Using cached jupyter_core-5.7.2-py3-none-any.whl (28 kB)\n",
      "Using cached matplotlib_inline-0.1.7-py3-none-any.whl (9.9 kB)\n",
      "Using cached nest_asyncio-1.6.0-py3-none-any.whl (5.2 kB)\n",
      "Using cached numpy-2.2.1-cp312-cp312-manylinux_2_17_x86_64.manylinux2014_x86_64.whl (16.1 MB)\n",
      "Using cached openpyxl-3.1.5-py2.py3-none-any.whl (250 kB)\n",
      "Using cached packaging-24.2-py3-none-any.whl (65 kB)\n",
      "Using cached pandas-2.2.3-cp312-cp312-manylinux_2_17_x86_64.manylinux2014_x86_64.whl (12.7 MB)\n",
      "Using cached parso-0.8.4-py2.py3-none-any.whl (103 kB)\n",
      "Using cached pexpect-4.9.0-py2.py3-none-any.whl (63 kB)\n",
      "Using cached platformdirs-4.3.6-py3-none-any.whl (18 kB)\n",
      "Using cached prompt_toolkit-3.0.48-py3-none-any.whl (386 kB)\n",
      "Using cached psutil-6.1.1-cp36-abi3-manylinux_2_12_x86_64.manylinux2010_x86_64.manylinux_2_17_x86_64.manylinux2014_x86_64.whl (287 kB)\n",
      "Using cached ptyprocess-0.7.0-py2.py3-none-any.whl (13 kB)\n",
      "Using cached pure_eval-0.2.3-py3-none-any.whl (11 kB)\n",
      "Using cached pygments-2.19.1-py3-none-any.whl (1.2 MB)\n",
      "Using cached python_dateutil-2.9.0.post0-py2.py3-none-any.whl (229 kB)\n",
      "Using cached pytz-2024.2-py2.py3-none-any.whl (508 kB)\n",
      "Using cached pyzmq-26.2.0-cp312-cp312-manylinux_2_28_x86_64.whl (860 kB)\n",
      "Using cached six-1.17.0-py2.py3-none-any.whl (11 kB)\n",
      "Using cached stack_data-0.6.3-py3-none-any.whl (24 kB)\n",
      "Using cached tornado-6.4.2-cp38-abi3-manylinux_2_5_x86_64.manylinux1_x86_64.manylinux_2_17_x86_64.manylinux2014_x86_64.whl (437 kB)\n",
      "Using cached traitlets-5.14.3-py3-none-any.whl (85 kB)\n",
      "Using cached tzdata-2024.2-py2.py3-none-any.whl (346 kB)\n",
      "Using cached uritools-4.0.3-py3-none-any.whl (10 kB)\n",
      "Using cached urlextract-1.9.0-py3-none-any.whl (21 kB)\n",
      "Using cached wcwidth-0.2.13-py2.py3-none-any.whl (34 kB)\n",
      "Installing collected packages: wcwidth, pytz, pure_eval, ptyprocess, uritools, tzdata, traitlets, tornado, six, pyzmq, Pygments, psutil, prompt_toolkit, platformdirs, pexpect, parso, packaging, numpy, nest-asyncio, idna, filelock, executing, et_xmlfile, decorator, debugpy, asttokens, urlextract, stack-data, python-dateutil, openpyxl, matplotlib-inline, jupyter_core, jedi, comm, pandas, jupyter_client, ipython, ipykernel\n",
      "Successfully installed Pygments-2.19.1 asttokens-3.0.0 comm-0.2.2 debugpy-1.8.11 decorator-5.1.1 et_xmlfile-2.0.0 executing-2.1.0 filelock-3.16.1 idna-3.10 ipykernel-6.29.5 ipython-8.31.0 jedi-0.19.2 jupyter_client-8.6.3 jupyter_core-5.7.2 matplotlib-inline-0.1.7 nest-asyncio-1.6.0 numpy-2.2.1 openpyxl-3.1.5 packaging-24.2 pandas-2.2.3 parso-0.8.4 pexpect-4.9.0 platformdirs-4.3.6 prompt_toolkit-3.0.48 psutil-6.1.1 ptyprocess-0.7.0 pure_eval-0.2.3 python-dateutil-2.9.0.post0 pytz-2024.2 pyzmq-26.2.0 six-1.17.0 stack-data-0.6.3 tornado-6.4.2 traitlets-5.14.3 tzdata-2024.2 uritools-4.0.3 urlextract-1.9.0 wcwidth-0.2.13\n"
     ]
    },
    {
     "name": "stderr",
     "output_type": "stream",
     "text": [
      "\n",
      "\u001b[1m[\u001b[0m\u001b[34;49mnotice\u001b[0m\u001b[1;39;49m]\u001b[0m\u001b[39;49m A new release of pip is available: \u001b[0m\u001b[31;49m24.0\u001b[0m\u001b[39;49m -> \u001b[0m\u001b[32;49m24.3.1\u001b[0m\n",
      "\u001b[1m[\u001b[0m\u001b[34;49mnotice\u001b[0m\u001b[1;39;49m]\u001b[0m\u001b[39;49m To update, run: \u001b[0m\u001b[32;49mpip install --upgrade pip\u001b[0m\n"
     ]
    },
    {
     "name": "stdout",
     "output_type": "stream",
     "text": [
      "Installed kernelspec venv2 in /home/agds/.local/share/jupyter/kernels/venv2\n"
     ]
    }
   ],
   "source": [
    "%%bash\n",
    "python3 -m venv venv2\n",
    "source venv2/bin/activate\n",
    "pip install -r requirements.txt\n",
    "ipython kernel install --user --name=venv2"
   ]
  },
  {
   "cell_type": "markdown",
   "id": "08ac3a35-9a64-41df-af24-b487c6c8a3e2",
   "metadata": {},
   "source": [
    "#### 1.2 To activate an existing virtual environment:\n",
    "If you already had the virtual environment set up from a previous session, then run the following cell to just acitivate it."
   ]
  },
  {
   "cell_type": "code",
   "execution_count": null,
   "id": "5398584b-9011-4257-a615-afca0b6fabfc",
   "metadata": {},
   "outputs": [],
   "source": [
    "%%bash\n",
    "source venv2/bin/activate"
   ]
  },
  {
   "cell_type": "markdown",
   "id": "c6d74803-b883-4ba9-b187-d80c753e0c54",
   "metadata": {},
   "source": [
    "#### 2. Change the Jupyter Kernel to your virtual environment:\n",
    "In this Jupyter visual interface, click on \"Kernel\" > \"Change Kernel...\" > \"venv2\" > \"Select\"."
   ]
  },
  {
   "cell_type": "markdown",
   "id": "fc56b768-67b4-42e5-9c32-fbd698cb09c2",
   "metadata": {
    "jp-MarkdownHeadingCollapsed": true
   },
   "source": [
    "### Execute the analysis:\n",
    "* Open the file src/inputs.py and enter the information necessary to execute the analysis of your choice. \n",
    "* Save the file.\n",
    "* Run the following cells:"
   ]
  },
  {
   "cell_type": "code",
   "execution_count": 1,
   "id": "2a6857ca-d1f6-4b8c-ab01-ec87abf6df9d",
   "metadata": {},
   "outputs": [],
   "source": [
    "import inputs\n",
    "from src import messages"
   ]
  },
  {
   "cell_type": "code",
   "execution_count": 3,
   "id": "6c2d50d9-0a83-40bc-9345-4040dd74d74b",
   "metadata": {},
   "outputs": [
    {
     "name": "stdout",
     "output_type": "stream",
     "text": [
      "Channel(s) to analyze:  general\n",
      "The path '/home/agds/Downloads/' already exists and it will be overwritten.\n",
      "Channel(s) to analyze:  general\n",
      "Channel(s) to analyze:  general\n",
      "Channel(s) to analyze:  general\n",
      "Channel(s) to analyze:  general\n",
      "Channel(s) to analyze:  general\n",
      "Channel(s) to analyze:  general\n",
      "17:30:06.953756 Starting loop over channels \n",
      "\n",
      "general 17:30:06.953872  Set-up channel name and path to directory\n",
      "general 17:30:07.257042  Collected channel messages from the json files\n",
      "general 17:30:07.325665  Collected users in current channel\n",
      "general 17:30:07.449772  Included the users information on channel_messages_df\n",
      "general 17:30:07.638161  User's id replaced by their names in messages\n",
      "general 17:30:08.412182  URLs extracted from messages\n",
      "general 17:30:08.931887  Formated the dates and times in the dataframe\n",
      "general 17:30:09.632207  Wrote curated messages to xlsx files \n",
      "\n",
      "17:30:09.632356 Done\n"
     ]
    }
   ],
   "source": [
    "# --Initialize constructor of the class InspectSource:\n",
    "inspect_source = messages.InspectSource()\n",
    "# --Check validity of input paths:\n",
    "analyze_all_channels = inspect_source.set_flag_analyze_all_channels()\n",
    "inspect_source.check_source_path_exists()\n",
    "save_in_path = inspect_source.save_in_path()\n",
    "inspect_source.check_save_path_exists(save_in_path)\n",
    "# --Check for expected files:\n",
    "inspect_source.check_expected_files_exists()\n",
    "# --Retrieve variables:\n",
    "channels_names = inspect_source.get_channels_names()\n",
    "all_channels_jsonFiles_dates = inspect_source.all_channels_jsonFiles_dates\n",
    "\n",
    "\n",
    "# --Initialize constructor of the class SlackChannelAndUsers:\n",
    "scu = messages.SlackChannelsAndUsers()\n",
    "# --Execute the main functions of the class:\n",
    "scu.get_all_channels_info()\n",
    "scu.get_all_users_info()\n",
    "# --Retrieve variables:\n",
    "all_channels_df = scu.all_channels_df\n",
    "all_users_df = scu.all_users_df\n",
    "\n",
    "\n",
    "# --Initialize constructor of the class SlackMessages:\n",
    "sm = messages.SlackMessages()\n",
    "# --Execute the main function of the class:\n",
    "channel_messages_df = sm.get_all_messages_df()\n"
   ]
  },
  {
   "cell_type": "markdown",
   "id": "ed440498-221f-4051-a8e6-d239f48724a9",
   "metadata": {
    "jp-MarkdownHeadingCollapsed": true
   },
   "source": [
    "### Deactivate the virtual environment:\n",
    "Once you have finished with your analysis, you can deactivate the virtual environment venv2 with,"
   ]
  },
  {
   "cell_type": "code",
   "execution_count": null,
   "id": "7c2321cf-9dab-4c06-b773-cfadb7c64567",
   "metadata": {},
   "outputs": [],
   "source": [
    "%%bash\n",
    "deactivate"
   ]
  },
  {
   "cell_type": "code",
   "execution_count": null,
   "id": "7fa6e21f-8760-447e-8a06-dbe55fc9ce01",
   "metadata": {},
   "outputs": [],
   "source": []
  }
 ],
 "metadata": {
  "kernelspec": {
   "display_name": "Python 3 (ipykernel)",
   "language": "python",
   "name": "python3"
  },
  "language_info": {
   "codemirror_mode": {
    "name": "ipython",
    "version": 3
   },
   "file_extension": ".py",
   "mimetype": "text/x-python",
   "name": "python",
   "nbconvert_exporter": "python",
   "pygments_lexer": "ipython3",
   "version": "3.12.2"
  }
 },
 "nbformat": 4,
 "nbformat_minor": 5
}
