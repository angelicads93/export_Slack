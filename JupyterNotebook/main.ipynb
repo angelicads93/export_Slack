{
 "cells": [
  {
   "cell_type": "markdown",
   "id": "a45f509d-5b4e-4448-9496-befd7e9924a8",
   "metadata": {},
   "source": [
    "# Slack Channels to Excel Datasets\n",
    "\n",
    "* Visit our [GitHub repository](https://github.com/angelicads93/export_Slack), click on the green button “<>code” and select the option “Download ZIP”.\n",
    "* Unzip and save this folder in the directory of your choice."
   ]
  },
  {
   "cell_type": "markdown",
   "id": "24420aca-9b32-4962-ae5c-1133aac2d2bc",
   "metadata": {},
   "source": [
    "## Set up a virtual environment:"
   ]
  },
  {
   "cell_type": "markdown",
   "id": "ba76d9c7-96d2-49ba-b715-849df7c44222",
   "metadata": {},
   "source": [
    "#### 1.1 To create a new virtual environment and install the required dependencies:\n",
    "Run the cell below if you are creating a virtual environment for the first time."
   ]
  },
  {
   "cell_type": "code",
   "execution_count": null,
   "id": "12334f10-52a3-470f-b4f7-25294d4de2a2",
   "metadata": {},
   "outputs": [],
   "source": [
    "%%bash\n",
    "python3 -m venv ../venv"
   ]
  },
  {
   "cell_type": "markdown",
   "id": "43cbab1b-c7e8-44bc-8525-ae7171357d9c",
   "metadata": {},
   "source": [
    "If you are working on **Linux**, activate the virtual environment with:"
   ]
  },
  {
   "cell_type": "code",
   "execution_count": null,
   "id": "2c9a51b7-c785-4869-a30e-f95cdf847815",
   "metadata": {},
   "outputs": [],
   "source": [
    "%%bash\n",
    "source ../venv/bin/activate"
   ]
  },
  {
   "cell_type": "markdown",
   "id": "75882d21-46ec-4d80-a77c-900f2e33302b",
   "metadata": {},
   "source": [
    "If you are working on **Windows**, activate the environment with:"
   ]
  },
  {
   "cell_type": "code",
   "execution_count": null,
   "id": "463046c1-9a82-452a-994e-cc75102d24fb",
   "metadata": {},
   "outputs": [],
   "source": [
    "%%bash\n",
    "..\\venv\\Scripts\\activate"
   ]
  },
  {
   "cell_type": "markdown",
   "id": "df92be41-7205-4283-aa2d-8e5883a9cfd6",
   "metadata": {},
   "source": [
    "Now you can install the dependencies specified in the file `dependencies/requirements.txt` with:"
   ]
  },
  {
   "cell_type": "code",
   "execution_count": null,
   "id": "d5c6f62b-5a3e-42ce-a050-b7f83c6d2aeb",
   "metadata": {},
   "outputs": [],
   "source": [
    "%%bash\n",
    "pip install -r ../dependencies/requirements.txt\n",
    "ipython kernel install --user --name=venv"
   ]
  },
  {
   "cell_type": "markdown",
   "id": "08ac3a35-9a64-41df-af24-b487c6c8a3e2",
   "metadata": {},
   "source": [
    "#### 1.2 To activate an existing virtual environment:\n",
    "If you already had the virtual environment set up from a previous session, then you just need to activate it by running the corresponding cell shown above, depending on the operating system that you are using:\n",
    "* Linux >> `source ../venv/bin/activate`\n",
    "* Windows >> `..\\venv\\Scripts\\activate`"
   ]
  },
  {
   "cell_type": "markdown",
   "id": "c6d74803-b883-4ba9-b187-d80c753e0c54",
   "metadata": {},
   "source": [
    "#### 2. Change the Jupyter Kernel to your virtual environment:\n",
    "In this Jupyter visual interface, click on \"Kernel\" > \"Change Kernel...\" > \"venv\" > \"Select\"."
   ]
  },
  {
   "cell_type": "markdown",
   "id": "fc56b768-67b4-42e5-9c32-fbd698cb09c2",
   "metadata": {},
   "source": [
    "## Execute the analysis:\n",
    "* Open the files `inputs.py` and `settings_messages.py` and specify your choices for the variables shown.\n",
    "* Save the file.\n",
    "* Run the following cells:"
   ]
  },
  {
   "cell_type": "code",
   "execution_count": null,
   "id": "2a6857ca-d1f6-4b8c-ab01-ec87abf6df9d",
   "metadata": {},
   "outputs": [],
   "source": [
    "import os, sys\n",
    "\n",
    "sys.path.append(os.path.join(os.getcwd(), '../'))\n",
    "import inputs\n",
    "\n",
    "sys.path.append(os.path.join(os.getcwd(), '../src'))\n",
    "from src import messages"
   ]
  },
  {
   "cell_type": "code",
   "execution_count": null,
   "id": "6c2d50d9-0a83-40bc-9345-4040dd74d74b",
   "metadata": {},
   "outputs": [],
   "source": [
    "# --Initialize constructor of the class InspectSource:\n",
    "inspect_source = messages.InspectSource(\n",
    "    inputs.chosen_channel_name,\n",
    "    inputs.slackexport_folder_path,\n",
    "    inputs.converted_directory)\n",
    "# --Check validity of input paths:\n",
    "analyze_all_channels = inspect_source.set_flag_analyze_all_channels()\n",
    "inspect_source.check_source_path_exists()\n",
    "save_in_path = inspect_source.save_in_path()\n",
    "inspect_source.check_save_path_exists(save_in_path)\n",
    "# --Check for expected files:\n",
    "inspect_source.check_expected_files_exists()\n",
    "# --Retrieve variables:\n",
    "channels_names = inspect_source.get_channels_names()\n",
    "all_channels_jsonFiles_dates = inspect_source.all_channels_jsonFiles_dates\n",
    "\n",
    "\n",
    "# --Initialize constructor of the class SlackChannelAndUsers:\n",
    "scu = messages.SlackChannelsAndUsers(\n",
    "    inputs.chosen_channel_name,\n",
    "    inputs.write_all_channels_info,\n",
    "    inputs.write_all_users_info,\n",
    "    inputs.slackexport_folder_path,\n",
    "    inputs.converted_directory)\n",
    "# --Execute the main functions of the class:\n",
    "scu.get_all_channels_info()\n",
    "scu.get_all_users_info()\n",
    "# --Retrieve variables:\n",
    "all_channels_df = scu.all_channels_df\n",
    "all_users_df = scu.all_users_df\n",
    "\n",
    "\n",
    "# --Initialize constructor of the class SlackMessages:\n",
    "sm = messages.SlackMessages(\n",
    "    inputs.chosen_channel_name,\n",
    "    inputs.write_all_channels_info, inputs.write_all_users_info,\n",
    "    inputs.slackexport_folder_path, inputs.converted_directory)\n",
    "# --Execute the main function of the class:\n",
    "channel_messages_df = sm.get_all_messages_df()\n"
   ]
  }
 ],
 "metadata": {
  "kernelspec": {
   "display_name": "venv2",
   "language": "python",
   "name": "venv2"
  },
  "language_info": {
   "codemirror_mode": {
    "name": "ipython",
    "version": 3
   },
   "file_extension": ".py",
   "mimetype": "text/x-python",
   "name": "python",
   "nbconvert_exporter": "python",
   "pygments_lexer": "ipython3",
   "version": "3.12.2"
  }
 },
 "nbformat": 4,
 "nbformat_minor": 5
}
